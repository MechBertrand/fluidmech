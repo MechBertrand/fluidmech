{
 "cells": [
  {
   "cell_type": "markdown",
   "metadata": {},
   "source": [
    "# <center>Fluid Mechanics Notes</center>"
   ]
  },
  {
   "cell_type": "markdown",
   "metadata": {},
   "source": [
    "## <center>Definitions</center>\n",
    "\n",
    "__ $\\doteq$ -__ Used to indicate the dimensions of a secondary quantity in terms of a primary quantity i.e. Velocity in terms of lengh per time ${[V]}\\doteq \\frac{{[L]}}{[T]}$\n",
    "\n",
    "__ Continuum -__ Modeling an object as a continuum assumes that the substance of the object completely fills the space it occupies. Modeling objects in this way ignores the fact that matter is made of atoms, and so is not actually continuous.\n",
    "\n",
    "__Fluid -__ A substance that deforms continuously when acted on by a __shearing stress__ of any magnitude.\n",
    "\n",
    "__ Shearing Stress ($\\tau$) -__ Tangential force acting on a surface, units given in force per unit area $\\frac{[F]}{[A]^2}$ \n",
    "\n",
    "\n",
    "\n",
    "## <center>Equations and Relations</center>\n",
    "\n"
   ]
  },
  {
   "cell_type": "markdown",
   "metadata": {},
   "source": [
    "### Common Variables\n",
    "\n",
    "$\\ell \\equiv$ Physical size of flow\n",
    "\n",
    "$p \\equiv$ Pressure\n",
    "\n",
    "$\\sigma \\equiv$ Stress\n",
    "\n",
    "$\\tau \\equiv$ Shearing stress\n",
    "\n",
    "$\\mathbf{V} \\equiv$ Speed of flow\n",
    "\n",
    "\n",
    "\n"
   ]
  },
  {
   "cell_type": "code",
   "execution_count": null,
   "metadata": {
    "collapsed": true
   },
   "outputs": [],
   "source": []
  }
 ],
 "metadata": {
  "kernelspec": {
   "display_name": "Python 3",
   "language": "python",
   "name": "python3"
  },
  "language_info": {
   "codemirror_mode": {
    "name": "ipython",
    "version": 3
   },
   "file_extension": ".py",
   "mimetype": "text/x-python",
   "name": "python",
   "nbconvert_exporter": "python",
   "pygments_lexer": "ipython3",
   "version": "3.6.1"
  }
 },
 "nbformat": 4,
 "nbformat_minor": 2
}
