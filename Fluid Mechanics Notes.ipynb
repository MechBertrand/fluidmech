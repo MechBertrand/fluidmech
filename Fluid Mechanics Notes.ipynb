{
 "cells": [
  {
   "cell_type": "markdown",
   "metadata": {},
   "source": [
    "# <center>Fluid Mechanics Notes</center>\n",
    "\n",
    "# xxxxxx"
   ]
  },
  {
   "cell_type": "markdown",
   "metadata": {},
   "source": [
    "## Abbreviations\n",
    "\n",
    "__FM -__ Fluid Mechanics  \n",
    "__TM -__ Thermodynamics\n",
    "\n",
    "## Definitions\n",
    "\n",
    "__ $\\doteq$ -__ Used to indicate the dimensions of a secondary quantity in terms of a primary quantity i.e. Velocity in terms of lengh per time ${[V]}\\doteq \\frac{{[L]}}{[T]}$\n",
    "\n",
    "[//]: # (My additions below are italicized and I striked out the portion I disagreed with. Let's get clarification!)\n",
    "\n",
    "__ Absolute Pressure -__ Denoted (abs) pressure relative to absolute zero pressure (perfect vaccuum)\n",
    "\n",
    "__ Continuum -__ Modeling an object as a continuum assumes that the substance *has average properties though the volume which it fills. These properties include density, specific weight, specific gravity etc. Liquids and gases are both treated as continuous fluids.\n",
    "\n",
    "__ Density -__ Mass per unit volume ${[\\rho]}\\doteq \\frac{{[M]}}{[L]^3}$\n",
    "\n",
    "__ Fluid -__ A substance that __deforms continuously__ when acted on by a __shearing stress__ of any magnitude. Properties of a fluid include:\n",
    "  * Needs a container\n",
    "  * Takes the shape of the container\n",
    "  * Sustains compression and tension\n",
    "  * Cohesive forces cause fluid molecules to form a surface which is always horizontal\n",
    "  \n",
    "__ Gage Pressure -__ Pressure measured relative to local atmospheric pressure. Absolute pressure can be obtained by adding the atmospheric pressure to the gage pressure.\n",
    "\n",
    "__ Pressure -__ Normal force per unit area ${[p]}\\doteq \\frac{{[F]}}{[L]^2}$\n",
    "\n",
    "__ Shearing Stress ($\\tau$) -__ Tangential force acting on a surface, units given in force per unit area $\\frac{[F]}{[A]^2}$ \n",
    "\n",
    "__ Specific Gravity ($SG$)-__ The ratio of the density of a fluid to the density of water at a specified temperature. ${[SG]}\\doteq \\frac{{[\\rho]}}{[\\rho]_{H2O}}$ \n",
    "\n",
    "__ Specific Volume ($\\upsilon$) -__ Volume per unit mass, the reciprocal of __Density__ $\\therefore$ ${[\\upsilon]}\\doteq \\frac{{[L]^3}}{[M]}$\n",
    "\n",
    "__ Specific Weight ($\\gamma$) -__ Weight per unit volume, related to __Density__ through ${[\\gamma]}\\doteq [\\rho] [g]$\n"
   ]
  },
  {
   "cell_type": "markdown",
   "metadata": {},
   "source": [
    "## Equations and Relations\n",
    "\n",
    "### Common properties\n",
    "\n",
    "$\\rho_{water@4}=1000\\frac{kg}{m^3}$\n",
    "\n",
    "### Common Variables\n",
    "\n",
    "$\\rho \\equiv$ Density\n",
    "\n",
    "$\\ell \\equiv$ Physical size of flow\n",
    "\n",
    "$p \\equiv$ Pressure\n",
    "\n",
    "$R \\equiv$ Gas constant\n",
    "\n",
    "$\\tau \\equiv$ Shearing stress\n",
    "\n",
    "$\\sigma \\equiv$ Stress\n",
    "\n",
    "$\\mathbf{V} \\equiv$ Speed of flow\n",
    "\n",
    "$SG \\equiv$ Specific Gravity\n",
    "\n",
    "$\\upsilon \\equiv$ Specific volume\n",
    "\n",
    "$\\gamma \\equiv$ Specific weight\n",
    "\n",
    "$ T \\equiv$ Temperature\n",
    "\n",
    "$E_v \\equiv$ Bulk Modulus\n",
    "\n",
    "\n",
    "### Relations\n",
    "\n",
    "$\\gamma \\equiv \\frac{\\rho_{substance}}{\\rho_{water@4}}$ Specific gravity\n",
    "\n",
    "$\\rho_{substance} = S.G._{substance} * \\rho_{water@4}$ Density of a substance from spec. gravity\n",
    "\n",
    "$ S.G. \\equiv \\frac{\\rho_{substance}}{\\rho_{standard reference fluid}} $\n",
    "\n",
    "$E_v = -\\frac{dp}{\\frac{dV}{V}}$\n",
    "Ideal Gas Law - $p = \\rho RT $\n",
    "\n",
    "\n",
    "\n",
    "\n",
    "\n"
   ]
  },
  {
   "cell_type": "markdown",
   "metadata": {
    "collapsed": true
   },
   "source": [
    "## Class Information\n",
    "\n",
    "#### Flow of lecture and topics:\n",
    "\n",
    "  __FM__ $\\rightarrow$ a MACRO approach\n",
    "  * Fluid statics\n",
    "  * Fluid Kinematics\n",
    "    * time\n",
    "    * velocity\n",
    "    * acceleration\n",
    "    * __NO FORCES__\n",
    "  * Fluid Dynamics\n",
    "    * Forces being applied\n",
    "    * Work done by applied forces\n",
    "    * These relations are experimentally determined\n",
    "    \n",
    "__Homework Rules__\n",
    "  * Return solutions with 3 sigfigs even when calculating using more."
   ]
  }
 ],
 "metadata": {
  "kernelspec": {
   "display_name": "Python 3",
   "language": "python",
   "name": "python3"
  },
  "language_info": {
   "codemirror_mode": {
    "name": "ipython",
    "version": 3
   },
   "file_extension": ".py",
   "mimetype": "text/x-python",
   "name": "python",
   "nbconvert_exporter": "python",
   "pygments_lexer": "ipython3",
   "version": "3.6.1"
  }
 },
 "nbformat": 4,
 "nbformat_minor": 2
}
